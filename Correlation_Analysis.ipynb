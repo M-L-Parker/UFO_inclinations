{
 "cells": [
  {
   "cell_type": "markdown",
   "metadata": {},
   "source": [
    "# Correlation analysis for velocity/inclination values\n",
    "## Calculates best linear relation and significance\n",
    "### Import functions:"
   ]
  },
  {
   "cell_type": "code",
   "execution_count": 1,
   "metadata": {},
   "outputs": [],
   "source": [
    "%matplotlib inline\n",
    "\n",
    "from ufo_reflection import * # Functions for loading the data are here\n",
    "from mc_significance import run_mc"
   ]
  },
  {
   "cell_type": "markdown",
   "metadata": {},
   "source": [
    "### Load data\n",
    "I should really get this to stop printing so much, but I can't be bothered."
   ]
  },
  {
   "cell_type": "code",
   "execution_count": 2,
   "metadata": {},
   "outputs": [
    {
     "name": "stdout",
     "output_type": "stream",
     "text": [
      "\n",
      "Analysing 1H 0707+495\n",
      "Reflection loaded\n",
      "43.0+/-2.0 Kara+15\n",
      "3 UFOs loaded\n",
      "Merging UFOs...\n",
      "Consolodated to 2 UFOs\n",
      "0.11+0.01-0.02 Dauser+12\n",
      "0.18+/-0.009 Hagino+16; Dauser+12\n",
      "\n",
      "Analysing IRAS 13349+2438\n",
      "Reflection loaded\n",
      "48.0+2.0-1.0 Parker+18\n",
      "1 UFOs loaded\n",
      "0.13+/-0.01 Parker+18\n",
      "\n",
      "Analysing Ark 120\n",
      "Reflection loaded\n",
      "45.0+5.0-2.0 Garcia+14\n",
      "1 UFOs loaded\n",
      "0.29+/-0.02 Tombesi+11\n",
      "\n",
      "Analysing PDS 456\n",
      "Reflection loaded\n",
      "65.0+/-2.0 Chiang+17\n",
      "14 UFOs loaded\n",
      "Merging UFOs...\n",
      "Consolodated to 2 UFOs\n",
      "0.278+/-0.003 Reeves+18; Matzeu+17\n",
      "0.46+/-0.02 Reeves+18\n",
      "\n",
      "Analysing Mrk 79\n",
      "Reflection loaded\n",
      "24.0+/-1.0 Gallo+11\n",
      "1 UFOs loaded\n",
      "0.092+/-0.004 Tombesi+11\n",
      "\n",
      "Analysing IC 4329A\n",
      "Reflection loaded\n",
      "35.0+/-5.0 Mantovani+14\n",
      "1 UFOs loaded\n",
      "0.098+/-0.004 Tombesi+11\n",
      "\n",
      "Analysing Swift J2127\n",
      "Reflection loaded\n",
      "49.0+/-2.0 Marinucci+14b\n",
      "1 UFOs loaded\n",
      "0.231+/-0.006 Gofford+13\n",
      "\n",
      "Analysing NGC 4051\n",
      "Reflection loaded\n",
      "37.0+/-5.0 Patrick+12/Risaliti+?\n",
      "Skipped: NGC 4051 v= 0.018 threshold= 0.033\n",
      "2 UFOs loaded\n",
      "0.202+/-0.006 Tombesi+11\n",
      "0.037+/-0.03 Tombesi+11\n",
      "\n",
      "Analysing Mrk 841\n",
      "Reflection loaded\n",
      "46.0+6.0-5.0 Walton+13\n",
      "1 UFOs loaded\n",
      "0.055+/-0.03 Tombesi+11\n",
      "\n",
      "Analysing Mrk 766\n",
      "Reflection loaded\n",
      "39.0+6.0-3.0 Buisson+\n",
      "2 UFOs loaded\n",
      "0.039+/-0.03 Gofford+13\n",
      "0.082+/-0.006 Tombesi+11\n",
      "\n",
      "Analysing 1H 0419-577\n",
      "Reflection loaded\n",
      "49.0+7.0-4.0 Walton+13\n",
      "1 UFOs loaded\n",
      "0.079+/-0.007 Tombesi+11\n",
      "\n",
      "Analysing 3C 111\n",
      "Reflection loaded\n",
      "44.0+/-2.0 Tombesi+11b\n",
      "2 UFOs loaded\n",
      "Merging UFOs...\n",
      "Consolodated to 1 UFOs\n",
      "0.105+/-0.006 Gofford+13; Tombesi+11b\n",
      "\n",
      "Analysing NGC 5506\n",
      "Reflection loaded\n",
      "41.0+0.1-0.2 Sun+17\n",
      "1 UFOs loaded\n",
      "0.246+/-0.006 Gofford+13\n",
      "\n",
      "Analysing NGC 3516\n",
      "Skipped: NGC 3516 v= 0.004 threshold= 0.033\n",
      "Reflection loaded\n",
      "<20.0 Patrick+12\n",
      "Skipped: NGC 3516 v= 0.01 threshold= 0.033\n",
      "0 UFOs loaded\n",
      "\n",
      "Analysing PG 1211+143\n",
      "Reflection loaded\n",
      "44.0+/-2.0 Lobban+16\n",
      "5 UFOs loaded\n",
      "Merging UFOs...\n",
      "Consolodated to 3 UFOs\n",
      "0.0598+/-0.0007 Pounds+16; Danehkar+17; Reeves+18b\n",
      "0.129+/-0.002 Pounds+16\n",
      "0.151+/-0.003 Tombesi+11\n",
      "\n",
      "Analysing Mrk 509\n",
      "Reflection loaded\n",
      "50.0+5.0-3.0 Walton+13\n",
      "8 UFOs loaded\n",
      "Merging UFOs...\n",
      "Consolodated to 3 UFOs\n",
      "0.14+/-0.002 Cappi+09; Tombesi+11\n",
      "0.171+/-0.003 Cappi+09; Tombesi+11\n",
      "0.197+/-0.005 Cappi+09; Tombesi+11\n",
      "\n",
      "Analysing NGC 3783\n",
      "Skipped: NGC 3783 v= 0.01 threshold= 0.033\n",
      "Reflection loaded\n",
      "22.0+3.0-8.0 Brenneman+11\n",
      "0 UFOs loaded\n",
      "\n",
      "Analysing IRAS 13224-3809\n",
      "Reflection loaded\n",
      "59.0+/-1.0 Parker+17\n",
      "1 UFOs loaded\n",
      "0.236+/-0.006 Parker+17\n",
      "\n",
      "Analysing MR 2251-178\n",
      "Reflection loaded\n",
      "24.0+3.0-5.0 Nardini+14\n",
      "1 UFOs loaded\n",
      "0.137+/-0.008 Gofford+13\n",
      "\n",
      "Analysing MCG-5-23-16\n",
      "Reflection loaded\n",
      "51.0+/-7.0 Zoghbi+17\n",
      "1 UFOs loaded\n",
      "0.116+/-0.004 Tombesi+11\n",
      "\n",
      "Analysing MCG-6-30-15\n",
      "Skipped: MCG-6-30-15 v= 0.007 threshold= 0.033\n",
      "Reflection loaded\n",
      "33.0+/-3.0 Marinucci+14\n",
      "0 UFOs loaded\n",
      "\n",
      "Analysing NGC 1365\n",
      "Skipped: NGC 1365 v= 0.008 threshold= 0.033\n",
      "Reflection loaded\n",
      "65.0+/-5.0 Walton+14\n",
      "0 UFOs loaded\n",
      "\n",
      "Analysing NGC 4151\n",
      "Reflection loaded\n",
      "<10.0 Keck+15, Beuchert+17\n",
      "3 UFOs loaded\n",
      "Merging UFOs...\n",
      "Consolodated to 2 UFOs\n",
      "0.0452+/-0.01 Gofford+13; Patrick+12\n",
      "0.106+/-0.007 Tombesi+11\n",
      "\n",
      "Analysing IRAS 00521-7054\n",
      "Reflection loaded\n",
      "63.0+3.0-2.0 Walton+?\n",
      "1 UFOs loaded\n",
      "0.403+0.007-0.006 Walton+?\n"
     ]
    }
   ],
   "source": [
    "sources=load_sources('data.tsv')"
   ]
  },
  {
   "cell_type": "markdown",
   "metadata": {},
   "source": [
    "### Find best-fit linear relation and generate plot.\n",
    "This is pretty slow, the basic Bayesian regression I coded up is not well optimised. Works though.\n",
    "Ignore the probabilities, these assume that the data is linearly correlated and then give the chance of the slope being greater or less than zero. Not really relevant to this."
   ]
  },
  {
   "cell_type": "code",
   "execution_count": 3,
   "metadata": {},
   "outputs": [
    {
     "name": "stdout",
     "output_type": "stream",
     "text": [
      "\n",
      "Getting points and limits\n",
      "1H 0707+495 2 UFOs\n",
      "IRAS 13349+2438 1 UFOs\n",
      "Ark 120 1 UFOs\n",
      "PDS 456 2 UFOs\n",
      "Mrk 79 1 UFOs\n",
      "IC 4329A 1 UFOs\n",
      "Swift J2127 1 UFOs\n",
      "NGC 4051 2 UFOs\n",
      "Mrk 841 1 UFOs\n",
      "Mrk 766 2 UFOs\n",
      "1H 0419-577 1 UFOs\n",
      "3C 111 1 UFOs\n",
      "NGC 5506 1 UFOs\n",
      "PG 1211+143 3 UFOs\n",
      "Mrk 509 3 UFOs\n",
      "IRAS 13224-3809 1 UFOs\n",
      "MR 2251-178 1 UFOs\n",
      "MCG-5-23-16 1 UFOs\n",
      "NGC 4151 2 UFOs\n",
      "IRAS 00521-7054 1 UFOs\n",
      "\n",
      "Plotting\n",
      "b = 32.7085350439 +/- 1.35515013111\n",
      "P(a>=0) = 1.0\n",
      "P(a<0) = 5.31803695158e-17\n",
      "a = 68.4845849264 +/- -8.9875548899\n"
     ]
    },
    {
     "data": {
      "text/plain": [
       "<matplotlib.figure.Figure at 0x10c240150>"
      ]
     },
     "metadata": {},
     "output_type": "display_data"
    },
    {
     "data": {
      "image/png": "[encoded data removed]",
      "text/plain": [
       "<matplotlib.figure.Figure at 0x10a9a8090>"
      ]
     },
     "metadata": {},
     "output_type": "display_data"
    }
   ],
   "source": [
    "plot_relation(sources)"
   ]
  },
  {
   "cell_type": "markdown",
   "metadata": {},
   "source": [
    "### Run an MC analysis to estimate significance\n",
    "Points are drawn from normal distributions with the same mean and standard deviation as the measured values. It's simple, but should be reasonable accurate.\n",
    "\n",
    "$N$ is the number of trials to run."
   ]
  },
  {
   "cell_type": "code",
   "execution_count": 4,
   "metadata": {},
   "outputs": [
    {
     "name": "stdout",
     "output_type": "stream",
     "text": [
      "\n",
      "Running MC significance analysis\n",
      "\n",
      "Getting points and limits\n",
      "1H 0707+495 2 UFOs\n",
      "IRAS 13349+2438 1 UFOs\n",
      "Ark 120 1 UFOs\n",
      "PDS 456 2 UFOs\n",
      "Mrk 79 1 UFOs\n",
      "IC 4329A 1 UFOs\n",
      "Swift J2127 1 UFOs\n",
      "NGC 4051 2 UFOs\n",
      "Mrk 841 1 UFOs\n",
      "Mrk 766 2 UFOs\n",
      "1H 0419-577 1 UFOs\n",
      "3C 111 1 UFOs\n",
      "NGC 5506 1 UFOs\n",
      "PG 1211+143 3 UFOs\n",
      "Mrk 509 3 UFOs\n",
      "IRAS 13224-3809 1 UFOs\n",
      "MR 2251-178 1 UFOs\n",
      "MCG-5-23-16 1 UFOs\n",
      "NGC 4151 2 UFOs\n",
      "IRAS 00521-7054 1 UFOs\n",
      "\n",
      "Pearson r: 0.641358970628\n",
      "P-value: 0.0003119711307\n",
      "\n",
      "Spearman r: 0.521129203342\n",
      "P-value: 0.00531463205992\n",
      "\n",
      "Mean log(v): -0.86487460036\n",
      "Standard deviation: 0.274973636274\n",
      "\n",
      "Mean i: 45.4814814815\n",
      "Standard deviation: 9.95683413306\n",
      "\n",
      "Results:\n",
      "37 of 100000 simulations exceeded Pearson r value of 0.641358970628\n",
      "P = 0.00037\n",
      "629 of 100000 simulations exceeded Spearman r value of 0.521129203342\n",
      "P = 0.00629\n"
     ]
    },
    {
     "data": {
      "text/plain": [
       "<matplotlib.figure.Figure at 0x1a18cdad90>"
      ]
     },
     "metadata": {},
     "output_type": "display_data"
    },
    {
     "data": {
      "image/png": "[encoded data removed]",
      "text/plain": [
       "<matplotlib.figure.Figure at 0x1a18c5da50>"
      ]
     },
     "metadata": {},
     "output_type": "display_data"
    }
   ],
   "source": [
    "N = 100000\n",
    "run_mc(sources,N)"
   ]
  },
  {
   "cell_type": "code",
   "execution_count": null,
   "metadata": {},
   "outputs": [],
   "source": []
  }
 ],
 "metadata": {
  "kernelspec": {
   "display_name": "Python 2",
   "language": "python",
   "name": "python2"
  },
  "language_info": {
   "codemirror_mode": {
    "name": "ipython",
    "version": 2
   },
   "file_extension": ".py",
   "mimetype": "text/x-python",
   "name": "python",
   "nbconvert_exporter": "python",
   "pygments_lexer": "ipython2",
   "version": "2.7.14"
  }
 },
 "nbformat": 4,
 "nbformat_minor": 2
}
