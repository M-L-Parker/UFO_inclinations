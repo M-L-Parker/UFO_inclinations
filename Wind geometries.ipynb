{
 "cells": [
  {
   "cell_type": "markdown",
   "metadata": {},
   "source": [
    "## Wind Geometries\n",
    "\n",
    "Code for calculating velocity as a function of viewing angle for a simple toy model.\n",
    "\n",
    "Import some basic stuff."
   ]
  },
  {
   "cell_type": "code",
   "execution_count": 1,
   "metadata": {},
   "outputs": [],
   "source": [
    "%matplotlib inline\n",
    "import numpy as np\n",
    "from matplotlib import pyplot as pl\n",
    "from scipy.interpolate import UnivariateSpline as spline # Splines are good.\n",
    "from ufo_reflection import * # Functions for loading the data are here"
   ]
  },
  {
   "cell_type": "markdown",
   "metadata": {},
   "source": [
    "### Define functions for some simple geometries. \n",
    "All return $h$, the height of the wind as a function of radius $r$."
   ]
  },
  {
   "cell_type": "code",
   "execution_count": 2,
   "metadata": {},
   "outputs": [],
   "source": [
    "\n",
    "# Simple conical geometry with launch radius and inclination\n",
    "def cone(r,launch_r=20.,iw=30.):\n",
    "    h=np.zeros(r.shape)\n",
    "    h[r>launch_r]=(r[r>launch_r]-launch_r)/np.tan(np.pi*iw/180.)\n",
    "    return h\n",
    "\n",
    "# Line of sight to origin. Same as cone with launch_r=0\n",
    "def los(r,i_view=45):\n",
    "    return r*np.tan(np.pi*(90.-i_view)/180.)\n",
    "\n",
    "# Smoothly curving wind, with launch radius, curvature radius, and final inclination\n",
    "def streamline(r,launch_r=20.,r_curv=100.,i_final=30.):\n",
    "    rf=r_curv*(1.-np.cos(np.pi*i_final/180.))+launch_r\n",
    "    hf=( r_curv**2-(r_curv+launch_r-rf)**2 )**0.5\n",
    "\n",
    "    h=np.zeros(r.shape)\n",
    "    \n",
    "    # This throws up a warning but should be fine, the Nans get replaced in the next step\n",
    "    h[r>launch_r]=( r_curv**2-(r_curv+launch_r-r[r>launch_r])**2 )**0.5\n",
    "\n",
    "    h[r>rf]=hf+cone(r[r>rf],launch_r=rf,iw=i_final)\n",
    "\n",
    "    return h"
   ]
  },
  {
   "cell_type": "markdown",
   "metadata": {},
   "source": [
    "### Function to find the velocity of a wind following the streamline velocity. \n",
    "Has the same parameters as the streamline geometry above, and also a characteristic velocity and radial exponent for the velocity ($v_{wind}=v*(r/1000)^{r_{exponent}}$)"
   ]
  },
  {
   "cell_type": "code",
   "execution_count": 3,
   "metadata": {},
   "outputs": [],
   "source": [
    "def find_velocities(v=0.4,i_view=45.,launch_r=20.,r_curv=100.,i_final=30.,r_exponent=1):\n",
    "    rs=np.logspace(0,4,1000)\n",
    "    wind_hs=streamline(rs,launch_r,r_curv,i_final)\n",
    "    los_hs=los(rs,i_view)\n",
    "    los_gradient=los(1.,i_view)\n",
    "\n",
    "    # Splines! Splines everywhere.\n",
    "    splinefit_wind=spline(rs,wind_hs,s=0)\n",
    "    gradient_wind=splinefit_wind.derivative()\n",
    "    splinefit_diff=spline(rs,wind_hs-los_hs,s=0)\n",
    "\n",
    "    # Find roots of the difference between LOS and wind\n",
    "    # i.e. points where wind and LOS intercept\n",
    "    roots=splinefit_diff.roots()\n",
    "\n",
    "    # Gradient of wind at intercepts gives angles between LOS and wind\n",
    "    wind_gradients=gradient_wind(roots)\n",
    "    angles=abs(np.arctan(wind_gradients)-np.arctan(los_gradient))\n",
    "\n",
    "    # Velocities are just v*cosine of the angle between wind and LOS\n",
    "    velocities=v*np.cos(angles)*(roots/1000)**r_exponent\n",
    "\n",
    "    return velocities"
   ]
  },
  {
   "cell_type": "markdown",
   "metadata": {},
   "source": [
    "### Plot a few streamlines, for illustration. \n",
    "(Warning should be safe to ignore)"
   ]
  },
  {
   "cell_type": "code",
   "execution_count": 11,
   "metadata": {},
   "outputs": [
    {
     "name": "stderr",
     "output_type": "stream",
     "text": [
      "/anaconda/lib/python2.7/site-packages/ipykernel_launcher.py:20: RuntimeWarning: invalid value encountered in sqrt\n"
     ]
    },
    {
     "data": {
      "image/png": "[encoded data removed]",
      "text/plain": [
       "<matplotlib.figure.Figure at 0x1a0a64c910>"
      ]
     },
     "metadata": {},
     "output_type": "display_data"
    }
   ],
   "source": [
    "fig1=pl.figure()\n",
    "\n",
    "ax=pl.subplot(111)\n",
    "ax.set_xlim(0,1000)\n",
    "ax.set_ylim(0,1000)\n",
    "\n",
    "\n",
    "radii=np.linspace(0,1000,1000)\n",
    "stream_hs_1=streamline(radii,launch_r=10.,r_curv=300.,i_final=70.)\n",
    "stream_hs_2=streamline(radii,launch_r=100.,r_curv=300.,i_final=60.)\n",
    "stream_hs_3=streamline(radii,launch_r=100.,r_curv=500.,i_final=60.)\n",
    "\n",
    "ax.plot(radii,stream_hs_1,label=r'$r_l=10$, $r_c=300$, $i_f=70$')\n",
    "ax.plot(radii,stream_hs_2,label=r'$r_l=100$, $r_c=300$, $i_f=60$')\n",
    "ax.plot(radii,stream_hs_3,label=r'$r_l=100$, $r_c=500$, $i_f=60$')\n",
    "\n",
    "pl.legend()\n",
    "\n",
    "pl.show()\n",
    "\n"
   ]
  },
  {
   "cell_type": "markdown",
   "metadata": {},
   "source": [
    "### Load inclination/velocity data for AGN sample:"
   ]
  },
  {
   "cell_type": "code",
   "execution_count": 12,
   "metadata": {},
   "outputs": [
    {
     "name": "stdout",
     "output_type": "stream",
     "text": [
      "\n",
      "Analysing 1H 0707+495\n",
      "Reflection loaded\n",
      "43.0+/-2.0 Kara+15\n",
      "3 UFOs loaded\n",
      "Merging UFOs...\n",
      "Consolodated to 2 UFOs\n",
      "0.11+0.01-0.02 Dauser+12\n",
      "0.18+/-0.009 Hagino+16; Dauser+12\n",
      "\n",
      "Analysing IRAS 13349+2438\n",
      "Reflection loaded\n",
      "48.0+2.0-1.0 Parker+18\n",
      "1 UFOs loaded\n",
      "0.13+/-0.01 Parker+18\n",
      "\n",
      "Analysing Ark 120\n",
      "Reflection loaded\n",
      "45.0+5.0-2.0 Garcia+14\n",
      "1 UFOs loaded\n",
      "0.29+/-0.02 Tombesi+11\n",
      "\n",
      "Analysing 3C 390.3\n",
      "Reflection loaded\n",
      "35.0+/-0.0 Walton+13, Giovannini+01\n",
      "1 UFOs loaded\n",
      "0.145+/-0.007 Gofford+13\n",
      "\n",
      "Analysing PDS 456\n",
      "Reflection loaded\n",
      "65.0+/-2.0 Chiang+17\n",
      "14 UFOs loaded\n",
      "Merging UFOs...\n",
      "Consolodated to 2 UFOs\n",
      "0.278+/-0.003 Reeves+18; Matzeu+17\n",
      "0.46+/-0.02 Reeves+18\n",
      "\n",
      "Analysing Mrk 79\n",
      "Reflection loaded\n",
      "24.0+/-1.0 Gallo+11\n",
      "1 UFOs loaded\n",
      "0.092+/-0.004 Tombesi+11\n",
      "\n",
      "Analysing IC 4329A\n",
      "Reflection loaded\n",
      "35.0+/-5.0 Mantovani+14\n",
      "1 UFOs loaded\n",
      "0.098+/-0.004 Tombesi+11\n",
      "\n",
      "Analysing Swift J2127\n",
      "Reflection loaded\n",
      "49.0+/-2.0 Marinucci+14b\n",
      "1 UFOs loaded\n",
      "0.231+/-0.006 Gofford+13\n",
      "\n",
      "Analysing NGC 4051\n",
      "Reflection loaded\n",
      "37.0+/-5.0 Patrick+12/Risaliti+?\n",
      "3 UFOs loaded\n",
      "Merging UFOs...\n",
      "Consolodated to 2 UFOs\n",
      "0.0185+/-0.004 Gofford+13; Tombesi+11\n",
      "0.202+/-0.006 Tombesi+11\n",
      "\n",
      "Analysing Mrk 841\n",
      "Reflection loaded\n",
      "46.0+6.0-5.0 Walton+13\n",
      "1 UFOs loaded\n",
      "0.055+/-0.03 Tombesi+11\n",
      "\n",
      "Analysing Mrk 766\n",
      "Reflection loaded\n",
      "39.0+6.0-3.0 Buisson+\n",
      "2 UFOs loaded\n",
      "0.039+/-0.03 Gofford+13\n",
      "0.082+/-0.006 Tombesi+11\n",
      "\n",
      "Analysing 1H 0419-577\n",
      "Reflection loaded\n",
      "49.0+7.0-4.0 Walton+13\n",
      "1 UFOs loaded\n",
      "0.079+/-0.007 Tombesi+11\n",
      "\n",
      "Analysing 3C 111\n",
      "Reflection loaded\n",
      "44.0+/-2.0 Tombesi+11b\n",
      "2 UFOs loaded\n",
      "Merging UFOs...\n",
      "Consolodated to 1 UFOs\n",
      "0.105+/-0.006 Gofford+13; Tombesi+11b\n",
      "\n",
      "Analysing NGC 5506\n",
      "Reflection loaded\n",
      "41.0+0.1-0.2 Sun+17\n",
      "1 UFOs loaded\n",
      "0.246+/-0.006 Gofford+13\n",
      "\n",
      "Analysing NGC 3516\n",
      "Skipped: NGC 3516 v= 0.004 threshold= 0.01\n",
      "Reflection loaded\n",
      "<20.0 Patrick+12\n",
      "Skipped: NGC 3516 v= 0.01 threshold= 0.01\n",
      "0 UFOs loaded\n",
      "\n",
      "Analysing PG 1211+143\n",
      "Reflection loaded\n",
      "44.0+/-2.0 Lobban+16\n",
      "5 UFOs loaded\n",
      "Merging UFOs...\n",
      "Consolodated to 3 UFOs\n",
      "0.0598+/-0.0007 Pounds+16; Danehkar+17; Reeves+18b\n",
      "0.129+/-0.002 Pounds+16\n",
      "0.151+/-0.003 Tombesi+11\n",
      "\n",
      "Analysing Mrk 509\n",
      "Reflection loaded\n",
      "50.0+5.0-3.0 Walton+13\n",
      "8 UFOs loaded\n",
      "Merging UFOs...\n",
      "Consolodated to 3 UFOs\n",
      "0.14+/-0.002 Cappi+09; Tombesi+11\n",
      "0.171+/-0.003 Cappi+09; Tombesi+11\n",
      "0.197+/-0.005 Cappi+09; Tombesi+11\n",
      "\n",
      "Analysing NGC 3783\n",
      "Skipped: NGC 3783 v= 0.01 threshold= 0.01\n",
      "Reflection loaded\n",
      "22.0+3.0-8.0 Brenneman+11\n",
      "0 UFOs loaded\n",
      "\n",
      "Analysing IRAS 13224-3809\n",
      "Reflection loaded\n",
      "59.0+/-1.0 Parker+17\n",
      "1 UFOs loaded\n",
      "0.236+/-0.006 Parker+17\n",
      "\n",
      "Analysing MR 2251-178\n",
      "Reflection loaded\n",
      "24.0+3.0-5.0 Nardini+14\n",
      "1 UFOs loaded\n",
      "0.137+/-0.008 Gofford+13\n",
      "\n",
      "Analysing MCG-5-23-16\n",
      "Reflection loaded\n",
      "51.0+/-7.0 Zoghbi+17\n",
      "1 UFOs loaded\n",
      "0.116+/-0.004 Tombesi+11\n",
      "\n",
      "Analysing MCG-6-30-15\n",
      "Skipped: MCG-6-30-15 v= 0.007 threshold= 0.01\n",
      "Reflection loaded\n",
      "33.0+/-3.0 Marinucci+14\n",
      "0 UFOs loaded\n",
      "\n",
      "Analysing NGC 1365\n",
      "Skipped: NGC 1365 v= 0.008 threshold= 0.01\n",
      "Reflection loaded\n",
      "65.0+/-5.0 Walton+14\n",
      "0 UFOs loaded\n",
      "\n",
      "Analysing NGC 4151\n",
      "Reflection loaded\n",
      "<10.0 Keck+15, Beuchert+17\n",
      "3 UFOs loaded\n",
      "Merging UFOs...\n",
      "Consolodated to 2 UFOs\n",
      "0.0452+/-0.01 Gofford+13; Patrick+12\n",
      "0.106+/-0.007 Tombesi+11\n"
     ]
    }
   ],
   "source": [
    "sources=load_sources('data.tsv')"
   ]
  },
  {
   "cell_type": "markdown",
   "metadata": {},
   "source": [
    "### Get inclination/velocity points for the sample:"
   ]
  },
  {
   "cell_type": "code",
   "execution_count": 17,
   "metadata": {},
   "outputs": [
    {
     "name": "stdout",
     "output_type": "stream",
     "text": [
      "\n",
      "Getting points and limits\n",
      "1H 0707+495 2 UFOs\n",
      "IRAS 13349+2438 1 UFOs\n",
      "Ark 120 1 UFOs\n",
      "3C 390.3 1 UFOs\n",
      "PDS 456 2 UFOs\n",
      "Mrk 79 1 UFOs\n",
      "IC 4329A 1 UFOs\n",
      "Swift J2127 1 UFOs\n",
      "NGC 4051 2 UFOs\n",
      "Mrk 841 1 UFOs\n",
      "Mrk 766 2 UFOs\n",
      "1H 0419-577 1 UFOs\n",
      "3C 111 1 UFOs\n",
      "NGC 5506 1 UFOs\n",
      "PG 1211+143 3 UFOs\n",
      "Mrk 509 3 UFOs\n",
      "IRAS 13224-3809 1 UFOs\n",
      "MR 2251-178 1 UFOs\n",
      "MCG-5-23-16 1 UFOs\n",
      "NGC 4151 2 UFOs\n"
     ]
    }
   ],
   "source": [
    "vs, v_errs, points, errs, llim_vs, llim_v_errs, llims, ulim_vs, ulim_v_errs, ulims = get_points(sources)"
   ]
  },
  {
   "cell_type": "markdown",
   "metadata": {},
   "source": [
    "### Plot points:"
   ]
  },
  {
   "cell_type": "code",
   "execution_count": 24,
   "metadata": {},
   "outputs": [
    {
     "name": "stderr",
     "output_type": "stream",
     "text": [
      "/anaconda/lib/python2.7/site-packages/ipykernel_launcher.py:20: RuntimeWarning: invalid value encountered in sqrt\n"
     ]
    },
    {
     "data": {
      "image/png": "[encoded data removed]",
      "text/plain": [
       "<matplotlib.figure.Figure at 0x1a0b353990>"
      ]
     },
     "metadata": {},
     "output_type": "display_data"
    }
   ],
   "source": [
    "\n",
    "##############################################\n",
    "#### Settings for the model to be overplotted:\n",
    "v_1000   = 0.4\n",
    "i_wind   = 70.\n",
    "launch_r = 10.\n",
    "r_curve  = 400.\n",
    "r_exp    = 1\n",
    "##############################################\n",
    "\n",
    "fig2=pl.figure(figsize=(6,6))\n",
    "\n",
    "ax=pl.subplot(111)\n",
    "ax.set_ylim(0,85)\n",
    "ax.set_xlim(0,0.5)\n",
    "ax.set_xlabel('v/c')\n",
    "ax.set_ylabel('inclination (degrees)')\n",
    "\n",
    "\n",
    "#  Plot the points\n",
    "pl.errorbar(vs,points,errs.T,v_errs.T,ls='none',lw=1,color='k')\n",
    "\n",
    "# Plot upper limits:\n",
    "if len(ulims)>0:\n",
    "    pl.errorbar(ulim_vs,ulims,0,ulim_v_errs,ls='none',lw=1,color='k')\n",
    "    pl.errorbar(ulim_vs, ulims, 5, uplims=True,ls='none',lw=1,color='k')\n",
    "    \n",
    "\n",
    "for i in np.linspace(0,90,500):\n",
    "    wind_vs=find_velocities(v=v_1000,i_view=i,i_final=i_wind,launch_r=launch_r,r_curv=r_curve,r_exponent=r_exp)\n",
    "    if len(vs)>0:\n",
    "        ax.scatter(wind_vs,[i]*len(wind_vs),color='dodgerblue',s=3)\n",
    "        \n",
    "pl.savefig('wind_velocity.pdf',bbox_inches='tight')"
   ]
  },
  {
   "cell_type": "code",
   "execution_count": null,
   "metadata": {},
   "outputs": [],
   "source": []
  }
 ],
 "metadata": {
  "kernelspec": {
   "display_name": "Python 2",
   "language": "python",
   "name": "python2"
  },
  "language_info": {
   "codemirror_mode": {
    "name": "ipython",
    "version": 2
   },
   "file_extension": ".py",
   "mimetype": "text/x-python",
   "name": "python",
   "nbconvert_exporter": "python",
   "pygments_lexer": "ipython2",
   "version": "2.7.14"
  }
 },
 "nbformat": 4,
 "nbformat_minor": 2
}
